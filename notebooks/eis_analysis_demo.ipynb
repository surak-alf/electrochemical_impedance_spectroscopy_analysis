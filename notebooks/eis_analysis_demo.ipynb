{
 "cells": [
  {
   "cell_type": "code",
   "execution_count": 1,
   "id": "a9889e7a",
   "metadata": {},
   "outputs": [],
   "source": [
    "# EIS Analysis for Electrolysis Cell Degradation\n",
    "# Demonstration Notebook\n",
    "\n",
    "import sys\n",
    "sys.path.append('../src')\n",
    "\n",
    "import numpy as np\n",
    "import matplotlib.pyplot as plt\n",
    "import pandas as pd"
   ]
  },
  {
   "cell_type": "code",
   "execution_count": 1,
   "id": "5bf190a2",
   "metadata": {},
   "outputs": [],
   "source": [
    "import sys\n",
    "import os\n",
    "\n",
    "# Get the directory of the current notebook\n",
    "current_dir = os.path.dirname(os.path.abspath('../src'))\n",
    "\n",
    "# Add the 'scripts' directory to the Python path\n",
    "src_dir = os.path.join(current_dir, 'src')\n",
    "sys.path.append(src_dir)"
   ]
  },
  {
   "cell_type": "code",
   "execution_count": 7,
   "id": "1995958a",
   "metadata": {},
   "outputs": [],
   "source": [
    "import sys\n",
    "import os\n",
    "sys.path.append('../src')\n"
   ]
  },
  {
   "cell_type": "code",
   "execution_count": 2,
   "id": "883678b7",
   "metadata": {},
   "outputs": [
    {
     "ename": "ImportError",
     "evalue": "attempted relative import with no known parent package",
     "output_type": "error",
     "traceback": [
      "\u001b[31m---------------------------------------------------------------------------\u001b[39m",
      "\u001b[31mImportError\u001b[39m                               Traceback (most recent call last)",
      "\u001b[36mCell\u001b[39m\u001b[36m \u001b[39m\u001b[32mIn[2]\u001b[39m\u001b[32m, line 1\u001b[39m\n\u001b[32m----> \u001b[39m\u001b[32m1\u001b[39m \u001b[38;5;28;01mfrom\u001b[39;00m\u001b[38;5;250m \u001b[39m\u001b[34;01mdata_generation\u001b[39;00m\u001b[38;5;250m \u001b[39m\u001b[38;5;28;01mimport\u001b[39;00m generate_baseline_data\n",
      "\u001b[36mFile \u001b[39m\u001b[32mc:\\Users\\Maintenant prêt\\Desktop\\M_LAB\\eis_analysis_project\\src\\data_generation.py:3\u001b[39m\n\u001b[32m      1\u001b[39m \u001b[38;5;28;01mimport\u001b[39;00m\u001b[38;5;250m \u001b[39m\u001b[34;01mnumpy\u001b[39;00m\u001b[38;5;250m \u001b[39m\u001b[38;5;28;01mas\u001b[39;00m\u001b[38;5;250m \u001b[39m\u001b[34;01mnp\u001b[39;00m\n\u001b[32m      2\u001b[39m \u001b[38;5;28;01mimport\u001b[39;00m\u001b[38;5;250m \u001b[39m\u001b[34;01mpandas\u001b[39;00m\u001b[38;5;250m \u001b[39m\u001b[38;5;28;01mas\u001b[39;00m\u001b[38;5;250m \u001b[39m\u001b[34;01mpd\u001b[39;00m\n\u001b[32m----> \u001b[39m\u001b[32m3\u001b[39m \u001b[38;5;28;01mfrom\u001b[39;00m\u001b[38;5;250m \u001b[39m\u001b[34;01m.\u001b[39;00m\u001b[34;01mequivalent_circuit\u001b[39;00m\u001b[38;5;250m \u001b[39m\u001b[38;5;28;01mimport\u001b[39;00m calculate_impedance_RRCPE, calculate_impedance_with_warburg\n\u001b[32m      5\u001b[39m \u001b[38;5;28;01mdef\u001b[39;00m\u001b[38;5;250m \u001b[39m\u001b[34mgenerate_baseline_data\u001b[39m():\n\u001b[32m      6\u001b[39m \u001b[38;5;250m    \u001b[39m\u001b[33;03m\"\"\"Generate baseline EIS data for a healthy cell.\"\"\"\u001b[39;00m\n",
      "\u001b[31mImportError\u001b[39m: attempted relative import with no known parent package"
     ]
    }
   ],
   "source": [
    "from data_generation import generate_baseline_data"
   ]
  },
  {
   "cell_type": "code",
   "execution_count": 11,
   "id": "cc3de687",
   "metadata": {},
   "outputs": [
    {
     "ename": "ImportError",
     "evalue": "cannot import name 'generate_baseline_data' from 'data_generation' (c:\\Users\\Maintenant prêt\\Desktop\\M_LAB\\eis_analysis_project\\notebooks\\../src\\data_generation.py)",
     "output_type": "error",
     "traceback": [
      "\u001b[31m---------------------------------------------------------------------------\u001b[39m",
      "\u001b[31mImportError\u001b[39m                               Traceback (most recent call last)",
      "\u001b[36mCell\u001b[39m\u001b[36m \u001b[39m\u001b[32mIn[11]\u001b[39m\u001b[32m, line 1\u001b[39m\n\u001b[32m----> \u001b[39m\u001b[32m1\u001b[39m \u001b[38;5;28;01mfrom\u001b[39;00m\u001b[38;5;250m \u001b[39m\u001b[34;01mdata_generation\u001b[39;00m\u001b[38;5;250m \u001b[39m\u001b[38;5;28;01mimport\u001b[39;00m generate_baseline_data, generate_degradation_scenarios, save_synthetic_data\n\u001b[32m      2\u001b[39m \u001b[38;5;28;01mfrom\u001b[39;00m\u001b[38;5;250m \u001b[39m\u001b[34;01mvisualization\u001b[39;00m\u001b[38;5;250m \u001b[39m\u001b[38;5;28;01mimport\u001b[39;00m plot_nyquist_single, plot_nyquist_comparison, plot_all_scenarios_comparison, plot_bode\n",
      "\u001b[31mImportError\u001b[39m: cannot import name 'generate_baseline_data' from 'data_generation' (c:\\Users\\Maintenant prêt\\Desktop\\M_LAB\\eis_analysis_project\\notebooks\\../src\\data_generation.py)"
     ]
    }
   ],
   "source": [
    "from data_generation import generate_baseline_data, generate_degradation_scenarios, save_synthetic_data\n",
    "from visualization import plot_nyquist_single, plot_nyquist_comparison, plot_all_scenarios_comparison, plot_bode"
   ]
  },
  {
   "cell_type": "code",
   "execution_count": null,
   "id": "8aee4e07",
   "metadata": {},
   "outputs": [],
   "source": []
  },
  {
   "cell_type": "code",
   "execution_count": null,
   "id": "b4443209",
   "metadata": {},
   "outputs": [],
   "source": []
  },
  {
   "cell_type": "code",
   "execution_count": 3,
   "id": "ec3729a9",
   "metadata": {},
   "outputs": [
    {
     "ename": "ImportError",
     "evalue": "cannot import name 'generate_baseline_data' from 'data_generation' (c:\\Users\\Maintenant prêt\\Desktop\\M_LAB\\eis_analysis_project\\notebooks\\../src\\data_generation.py)",
     "output_type": "error",
     "traceback": [
      "\u001b[31m---------------------------------------------------------------------------\u001b[39m",
      "\u001b[31mImportError\u001b[39m                               Traceback (most recent call last)",
      "\u001b[36mCell\u001b[39m\u001b[36m \u001b[39m\u001b[32mIn[3]\u001b[39m\u001b[32m, line 11\u001b[39m\n\u001b[32m      8\u001b[39m \u001b[38;5;28;01mimport\u001b[39;00m\u001b[38;5;250m \u001b[39m\u001b[34;01mmatplotlib\u001b[39;00m\u001b[34;01m.\u001b[39;00m\u001b[34;01mpyplot\u001b[39;00m\u001b[38;5;250m \u001b[39m\u001b[38;5;28;01mas\u001b[39;00m\u001b[38;5;250m \u001b[39m\u001b[34;01mplt\u001b[39;00m\n\u001b[32m      9\u001b[39m \u001b[38;5;28;01mimport\u001b[39;00m\u001b[38;5;250m \u001b[39m\u001b[34;01mpandas\u001b[39;00m\u001b[38;5;250m \u001b[39m\u001b[38;5;28;01mas\u001b[39;00m\u001b[38;5;250m \u001b[39m\u001b[34;01mpd\u001b[39;00m\n\u001b[32m---> \u001b[39m\u001b[32m11\u001b[39m \u001b[38;5;28;01mfrom\u001b[39;00m\u001b[38;5;250m \u001b[39m\u001b[34;01mdata_generation\u001b[39;00m\u001b[38;5;250m \u001b[39m\u001b[38;5;28;01mimport\u001b[39;00m generate_baseline_data, generate_degradation_scenarios, save_synthetic_data\n\u001b[32m     12\u001b[39m \u001b[38;5;28;01mfrom\u001b[39;00m\u001b[38;5;250m \u001b[39m\u001b[34;01mvisualization\u001b[39;00m\u001b[38;5;250m \u001b[39m\u001b[38;5;28;01mimport\u001b[39;00m plot_nyquist_single, plot_nyquist_comparison, plot_all_scenarios_comparison, plot_bode\n\u001b[32m     14\u001b[39m \u001b[38;5;66;03m# Generate synthetic data\u001b[39;00m\n",
      "\u001b[31mImportError\u001b[39m: cannot import name 'generate_baseline_data' from 'data_generation' (c:\\Users\\Maintenant prêt\\Desktop\\M_LAB\\eis_analysis_project\\notebooks\\../src\\data_generation.py)"
     ]
    }
   ],
   "source": [
    "# EIS Analysis for Electrolysis Cell Degradation\n",
    "# Demonstration Notebook\n",
    "\n",
    "import sys\n",
    "sys.path.append('../src')\n",
    "\n",
    "import numpy as np\n",
    "import matplotlib.pyplot as plt\n",
    "import pandas as pd\n",
    "\n",
    "from data_generation import generate_baseline_data, generate_degradation_scenarios, save_synthetic_data\n",
    "from visualization import plot_nyquist_single, plot_nyquist_comparison, plot_all_scenarios_comparison, plot_bode\n",
    "\n",
    "# Generate synthetic data\n",
    "print(\"Generating synthetic EIS data...\")\n",
    "baseline_data = generate_baseline_data()\n",
    "degraded_data = generate_degradation_scenarios()\n",
    "all_data = pd.concat([baseline_data, degraded_data])\n",
    "\n",
    "# Save data to CSV\n",
    "save_synthetic_data()\n",
    "print(\"Data saved to '../data/synthetic_eis_data.csv'\")\n",
    "\n",
    "# Display sample data\n",
    "print(\"\\nSample data:\")\n",
    "print(all_data.head())\n",
    "\n",
    "# Plot baseline data\n",
    "print(\"\\nPlotting baseline EIS data...\")\n",
    "plot_nyquist_single(baseline_data, \"Baseline EIS Data (Healthy Cell)\")\n",
    "\n",
    "# Plot all scenarios together\n",
    "print(\"\\nPlotting all scenarios...\")\n",
    "plot_nyquist_single(all_data, \"All EIS Scenarios\")\n",
    "\n",
    "# Compare baseline with each degradation scenario\n",
    "print(\"\\nComparing baseline with increased ohmic resistance scenario...\")\n",
    "plot_nyquist_comparison(baseline_data, degraded_data, \"increased_ohmic\")\n",
    "\n",
    "print(\"\\nComparing baseline with increased charge transfer resistance scenario...\")\n",
    "plot_nyquist_comparison(baseline_data, degraded_data, \"increased_ct\")\n",
    "\n",
    "print(\"\\nComparing baseline with mass transfer limitations scenario...\")\n",
    "plot_nyquist_comparison(baseline_data, degraded_data, \"mass_transfer\")\n",
    "\n",
    "# Comprehensive comparison\n",
    "print(\"\\nCreating comprehensive comparison plot...\")\n",
    "plot_all_scenarios_comparison(baseline_data, degraded_data, \"../results/nyquist_plots/all_scenarios_comparison.png\")\n",
    "\n",
    "# Bode plot\n",
    "print(\"\\nCreating Bode plot...\")\n",
    "plot_bode(all_data)"
   ]
  },
  {
   "cell_type": "code",
   "execution_count": null,
   "id": "4d0780ce",
   "metadata": {},
   "outputs": [],
   "source": []
  },
  {
   "cell_type": "code",
   "execution_count": null,
   "id": "b784d7ea",
   "metadata": {},
   "outputs": [],
   "source": []
  },
  {
   "cell_type": "code",
   "execution_count": null,
   "id": "2463fc2d",
   "metadata": {},
   "outputs": [],
   "source": []
  },
  {
   "cell_type": "code",
   "execution_count": null,
   "id": "066a6af6",
   "metadata": {},
   "outputs": [],
   "source": []
  },
  {
   "cell_type": "code",
   "execution_count": null,
   "id": "6e7af0c8",
   "metadata": {},
   "outputs": [],
   "source": []
  }
 ],
 "metadata": {
  "kernelspec": {
   "display_name": "venv",
   "language": "python",
   "name": "python3"
  },
  "language_info": {
   "codemirror_mode": {
    "name": "ipython",
    "version": 3
   },
   "file_extension": ".py",
   "mimetype": "text/x-python",
   "name": "python",
   "nbconvert_exporter": "python",
   "pygments_lexer": "ipython3",
   "version": "3.12.4"
  }
 },
 "nbformat": 4,
 "nbformat_minor": 5
}
